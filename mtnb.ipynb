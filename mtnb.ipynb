{
 "cells": [
  {
   "cell_type": "code",
   "execution_count": 1397,
   "metadata": {},
   "outputs": [],
   "source": [
    "import pandas as pd\n",
    "import numpy as np\n",
    "import category_encoders as ce\n",
    "import xgboost as xgb\n",
    "from sklearn.ensemble import RandomForestClassifier, AdaBoostClassifier, GradientBoostingClassifier,ExtraTreesClassifier\n",
    "from sklearn.preprocessing import LabelEncoder\n",
    "from sklearn.metrics import confusion_matrix\n",
    "\n",
    "\n",
    "import matplotlib.pyplot as plt\n",
    "import seaborn as sns; sns.set()\n",
    "%matplotlib inline\n",
    "\n",
    "from sklearn.tree import DecisionTreeClassifier\n",
    "from sklearn.linear_model import LogisticRegression\n",
    "from sklearn.preprocessing import KBinsDiscretizer, FunctionTransformer\n",
    "from sklearn.model_selection import cross_val_score\n",
    "from category_encoders import OneHotEncoder\n",
    "from sklearn.pipeline import make_pipeline, Pipeline\n",
    "\n",
    "from sklearn.model_selection import GridSearchCV, train_test_split\n",
    "from sklearn.metrics import roc_auc_score, accuracy_score\n",
    "\n",
    "from sklearn.datasets import make_classification\n",
    "from sklearn.model_selection import train_test_split, GridSearchCV\n",
    "from hyperopt import fmin, tpe, hp, STATUS_OK, Trials\n",
    "\n",
    "rng = np.random.RandomState(42)\n",
    "\n",
    "import warnings\n",
    "warnings.filterwarnings(\"ignore\")"
   ]
  },
  {
   "cell_type": "code",
   "execution_count": 1423,
   "metadata": {},
   "outputs": [],
   "source": [
    "rtrain = pd.read_csv('m_race_hist.csv')"
   ]
  },
  {
   "cell_type": "code",
   "execution_count": 1424,
   "metadata": {},
   "outputs": [],
   "source": [
    "itrain = pd.read_csv('m_horse_info.csv')"
   ]
  },
  {
   "cell_type": "code",
   "execution_count": 1425,
   "metadata": {},
   "outputs": [],
   "source": [
    "rtrain['Pla.'] = rtrain['Pla.'].replace(['WV', 'WV-A', 'WX-A', 'UR', 'DISQ', 'WXNR', 'PU',\n",
    "                        'WX', 'TNP', np.nan], 999)"
   ]
  },
  {
   "cell_type": "code",
   "execution_count": 1426,
   "metadata": {},
   "outputs": [],
   "source": [
    "rtrain.drop(rtrain[rtrain['Pla.'] == 999].index, inplace = True)"
   ]
  },
  {
   "cell_type": "code",
   "execution_count": 1427,
   "metadata": {},
   "outputs": [],
   "source": [
    "train = rtrain.join(itrain.set_index('hname'), on='hname')"
   ]
  },
  {
   "cell_type": "code",
   "execution_count": 1404,
   "metadata": {},
   "outputs": [],
   "source": [
    "target = train['Pla.']"
   ]
  },
  {
   "cell_type": "code",
   "execution_count": 1405,
   "metadata": {},
   "outputs": [],
   "source": [
    "train.drop('Pla.', axis = 1, inplace = True)"
   ]
  },
  {
   "cell_type": "code",
   "execution_count": 1408,
   "metadata": {},
   "outputs": [],
   "source": [
    "target = target.astype(int)"
   ]
  },
  {
   "cell_type": "code",
   "execution_count": 1409,
   "metadata": {},
   "outputs": [],
   "source": [
    "target = target.where(target > 3, 1)"
   ]
  },
  {
   "cell_type": "code",
   "execution_count": 1410,
   "metadata": {},
   "outputs": [],
   "source": [
    "target = target.where(target <= 3, 0)"
   ]
  },
  {
   "cell_type": "code",
   "execution_count": 1411,
   "metadata": {},
   "outputs": [
    {
     "data": {
      "text/plain": [
       "0    11718\n",
       "1     4581\n",
       "Name: Pla., dtype: int64"
      ]
     },
     "execution_count": 1411,
     "metadata": {},
     "output_type": "execute_result"
    }
   ],
   "source": [
    "target.value_counts()"
   ]
  },
  {
   "cell_type": "code",
   "execution_count": 1428,
   "metadata": {},
   "outputs": [
    {
     "data": {
      "text/html": [
       "<div>\n",
       "<style scoped>\n",
       "    .dataframe tbody tr th:only-of-type {\n",
       "        vertical-align: middle;\n",
       "    }\n",
       "\n",
       "    .dataframe tbody tr th {\n",
       "        vertical-align: top;\n",
       "    }\n",
       "\n",
       "    .dataframe thead th {\n",
       "        text-align: right;\n",
       "    }\n",
       "</style>\n",
       "<table border=\"1\" class=\"dataframe\">\n",
       "  <thead>\n",
       "    <tr style=\"text-align: right;\">\n",
       "      <th></th>\n",
       "      <th>Act.  Wt.</th>\n",
       "      <th>Date</th>\n",
       "      <th>Declar.  Horse Wt.</th>\n",
       "      <th>Dist.</th>\n",
       "      <th>Dr</th>\n",
       "      <th>G</th>\n",
       "      <th>Gear</th>\n",
       "      <th>Jockey</th>\n",
       "      <th>LBW</th>\n",
       "      <th>Pla.</th>\n",
       "      <th>...</th>\n",
       "      <th>Dam's Sire</th>\n",
       "      <th>Import Type</th>\n",
       "      <th>No. of starts in past 10  race meetings</th>\n",
       "      <th>Owner</th>\n",
       "      <th>Sire</th>\n",
       "      <th>Start of  Season Rating</th>\n",
       "      <th>Colour</th>\n",
       "      <th>Sex</th>\n",
       "      <th>Country_of_Origin</th>\n",
       "      <th>Age</th>\n",
       "    </tr>\n",
       "  </thead>\n",
       "  <tbody>\n",
       "    <tr>\n",
       "      <td>8327</td>\n",
       "      <td>131</td>\n",
       "      <td>16/06/18</td>\n",
       "      <td>1118.0</td>\n",
       "      <td>1200</td>\n",
       "      <td>8.0</td>\n",
       "      <td>GF</td>\n",
       "      <td>B</td>\n",
       "      <td>N Callan</td>\n",
       "      <td>6-3/4</td>\n",
       "      <td>07</td>\n",
       "      <td>...</td>\n",
       "      <td>Foreplay</td>\n",
       "      <td>PPG</td>\n",
       "      <td>1</td>\n",
       "      <td>Thing On Group Syndicate</td>\n",
       "      <td>Denman</td>\n",
       "      <td>49.0</td>\n",
       "      <td>Brown</td>\n",
       "      <td>Gelding</td>\n",
       "      <td>AUS</td>\n",
       "      <td>5</td>\n",
       "    </tr>\n",
       "    <tr>\n",
       "      <td>7551</td>\n",
       "      <td>125</td>\n",
       "      <td>16/05/18</td>\n",
       "      <td>1037.0</td>\n",
       "      <td>1650</td>\n",
       "      <td>1.0</td>\n",
       "      <td>GF</td>\n",
       "      <td>B-</td>\n",
       "      <td>T Berry</td>\n",
       "      <td>2-1/2</td>\n",
       "      <td>05</td>\n",
       "      <td>...</td>\n",
       "      <td>Keeper</td>\n",
       "      <td>PP</td>\n",
       "      <td>1</td>\n",
       "      <td>Ko Kam Piu</td>\n",
       "      <td>Tavistock</td>\n",
       "      <td>37.0</td>\n",
       "      <td>Bay</td>\n",
       "      <td>Gelding</td>\n",
       "      <td>NZ</td>\n",
       "      <td>8</td>\n",
       "    </tr>\n",
       "    <tr>\n",
       "      <td>7451</td>\n",
       "      <td>133</td>\n",
       "      <td>27/12/15</td>\n",
       "      <td>1085.0</td>\n",
       "      <td>1400</td>\n",
       "      <td>11.0</td>\n",
       "      <td>G</td>\n",
       "      <td>XB/TT</td>\n",
       "      <td>G Benoist</td>\n",
       "      <td>1</td>\n",
       "      <td>03</td>\n",
       "      <td>...</td>\n",
       "      <td>Sadler's Wells</td>\n",
       "      <td>PP</td>\n",
       "      <td>2</td>\n",
       "      <td>Tai Woon Shing &amp; Timon Tai</td>\n",
       "      <td>Oasis Dream</td>\n",
       "      <td>39.0</td>\n",
       "      <td>Bay</td>\n",
       "      <td>Gelding</td>\n",
       "      <td>IRE</td>\n",
       "      <td>9</td>\n",
       "    </tr>\n",
       "    <tr>\n",
       "      <td>8328</td>\n",
       "      <td>133</td>\n",
       "      <td>27/05/18</td>\n",
       "      <td>1118.0</td>\n",
       "      <td>1200</td>\n",
       "      <td>12.0</td>\n",
       "      <td>GF</td>\n",
       "      <td>B</td>\n",
       "      <td>N Callan</td>\n",
       "      <td>3-1/2</td>\n",
       "      <td>07</td>\n",
       "      <td>...</td>\n",
       "      <td>Foreplay</td>\n",
       "      <td>PPG</td>\n",
       "      <td>1</td>\n",
       "      <td>Thing On Group Syndicate</td>\n",
       "      <td>Denman</td>\n",
       "      <td>49.0</td>\n",
       "      <td>Brown</td>\n",
       "      <td>Gelding</td>\n",
       "      <td>AUS</td>\n",
       "      <td>5</td>\n",
       "    </tr>\n",
       "    <tr>\n",
       "      <td>9120</td>\n",
       "      <td>121</td>\n",
       "      <td>25/11/18</td>\n",
       "      <td>1004.0</td>\n",
       "      <td>1400</td>\n",
       "      <td>5.0</td>\n",
       "      <td>G</td>\n",
       "      <td>B</td>\n",
       "      <td>S de Sousa</td>\n",
       "      <td>3/4</td>\n",
       "      <td>02</td>\n",
       "      <td>...</td>\n",
       "      <td>Cullen</td>\n",
       "      <td>PPG</td>\n",
       "      <td>0</td>\n",
       "      <td>Chan Ming Wing</td>\n",
       "      <td>Rip Van Winkle</td>\n",
       "      <td>55.0</td>\n",
       "      <td>Bay</td>\n",
       "      <td>Gelding</td>\n",
       "      <td>NZ</td>\n",
       "      <td>5</td>\n",
       "    </tr>\n",
       "  </tbody>\n",
       "</table>\n",
       "<p>5 rows × 31 columns</p>\n",
       "</div>"
      ],
      "text/plain": [
       "      Act.  Wt.      Date  Declar.  Horse Wt.  Dist.    Dr   G   Gear  \\\n",
       "8327        131  16/06/18              1118.0   1200   8.0  GF      B   \n",
       "7551        125  16/05/18              1037.0   1650   1.0  GF     B-   \n",
       "7451        133  27/12/15              1085.0   1400  11.0   G  XB/TT   \n",
       "8328        133  27/05/18              1118.0   1200  12.0  GF      B   \n",
       "9120        121  25/11/18              1004.0   1400   5.0   G      B   \n",
       "\n",
       "          Jockey    LBW Pla.  ...      Dam's Sire Import Type  \\\n",
       "8327    N Callan  6-3/4   07  ...        Foreplay         PPG   \n",
       "7551     T Berry  2-1/2   05  ...          Keeper          PP   \n",
       "7451   G Benoist      1   03  ...  Sadler's Wells          PP   \n",
       "8328    N Callan  3-1/2   07  ...        Foreplay         PPG   \n",
       "9120  S de Sousa    3/4   02  ...          Cullen         PPG   \n",
       "\n",
       "      No. of starts in past 10  race meetings                       Owner  \\\n",
       "8327                                        1    Thing On Group Syndicate   \n",
       "7551                                        1                  Ko Kam Piu   \n",
       "7451                                        2  Tai Woon Shing & Timon Tai   \n",
       "8328                                        1    Thing On Group Syndicate   \n",
       "9120                                        0              Chan Ming Wing   \n",
       "\n",
       "                Sire Start of  Season Rating Colour      Sex  \\\n",
       "8327          Denman                    49.0  Brown  Gelding   \n",
       "7551       Tavistock                    37.0    Bay  Gelding   \n",
       "7451     Oasis Dream                    39.0    Bay  Gelding   \n",
       "8328          Denman                    49.0  Brown  Gelding   \n",
       "9120  Rip Van Winkle                    55.0    Bay  Gelding   \n",
       "\n",
       "     Country_of_Origin  Age  \n",
       "8327               AUS    5  \n",
       "7551                NZ    8  \n",
       "7451               IRE    9  \n",
       "8328               AUS    5  \n",
       "9120                NZ    5  \n",
       "\n",
       "[5 rows x 31 columns]"
      ]
     },
     "execution_count": 1428,
     "metadata": {},
     "output_type": "execute_result"
    }
   ],
   "source": [
    "train.sample(5)"
   ]
  },
  {
   "cell_type": "code",
   "execution_count": 1412,
   "metadata": {},
   "outputs": [
    {
     "name": "stdout",
     "output_type": "stream",
     "text": [
      "<class 'pandas.core.frame.DataFrame'>\n",
      "Int64Index: 16299 entries, 0 to 16590\n",
      "Data columns (total 30 columns):\n",
      "Act.  Wt.                                  16299 non-null int64\n",
      "Date                                       16299 non-null object\n",
      "Declar.  Horse Wt.                         16292 non-null float64\n",
      "Dist.                                      16299 non-null int64\n",
      "Dr                                         16299 non-null float64\n",
      "G                                          16299 non-null object\n",
      "Gear                                       12383 non-null object\n",
      "Jockey                                     16299 non-null object\n",
      "LBW                                        16299 non-null object\n",
      "Race  Class                                16299 non-null object\n",
      "Race  Index                                16299 non-null object\n",
      "Rtg.                                       16221 non-null float64\n",
      "Trainer                                    16299 non-null object\n",
      "hname                                      16299 non-null object\n",
      "RC                                         16299 non-null object\n",
      "Track                                      16299 non-null object\n",
      "Course                                     14510 non-null object\n",
      "U_raceno                                   16299 non-null object\n",
      "Current Rating                             16299 non-null float64\n",
      "Dam                                        16299 non-null object\n",
      "Dam's Sire                                 16299 non-null object\n",
      "Import Type                                16299 non-null object\n",
      "No. of starts in past 10  race meetings    16299 non-null int64\n",
      "Owner                                      16299 non-null object\n",
      "Sire                                       16299 non-null object\n",
      "Start of  Season Rating                    16296 non-null float64\n",
      "Colour                                     16299 non-null object\n",
      "Sex                                        16299 non-null object\n",
      "Country_of_Origin                          16299 non-null object\n",
      "Age                                        16299 non-null int64\n",
      "dtypes: float64(5), int64(4), object(21)\n",
      "memory usage: 3.9+ MB\n"
     ]
    }
   ],
   "source": [
    "train.info()"
   ]
  },
  {
   "cell_type": "code",
   "execution_count": 1413,
   "metadata": {},
   "outputs": [],
   "source": [
    "cate = [c for c in train.columns.tolist() if c not in ['Act.  Wt.',\n",
    "                                'Declar.  Horse Wt.', \n",
    "                                'Dist.','Dr',\n",
    "                                'Rtg.', 'Current Rating',\n",
    "                                'No. of starts in past 10  race meetings',\n",
    "                                'Start of  Season Rating', 'Age']]"
   ]
  },
  {
   "cell_type": "code",
   "execution_count": 1414,
   "metadata": {},
   "outputs": [
    {
     "data": {
      "text/plain": [
       "TargetEncoder(cols=['Date', 'G', 'Gear', 'Jockey', 'LBW', 'Race  Class',\n",
       "                    'Race  Index', 'Trainer', 'hname', 'RC', 'Track', 'Course',\n",
       "                    'U_raceno', 'Dam', \"Dam's Sire\", 'Import Type', 'Owner',\n",
       "                    'Sire', 'Colour', 'Sex', 'Country_of_Origin'],\n",
       "              drop_invariant=False, handle_missing='value',\n",
       "              handle_unknown='value', min_samples_leaf=1, return_df=True,\n",
       "              smoothing=0.3, verbose=0)"
      ]
     },
     "execution_count": 1414,
     "metadata": {},
     "output_type": "execute_result"
    }
   ],
   "source": [
    "ce_target_encoder = ce.TargetEncoder(cols = cate, smoothing=.3)\n",
    "ce_target_encoder.fit(train, target)"
   ]
  },
  {
   "cell_type": "code",
   "execution_count": 1415,
   "metadata": {},
   "outputs": [],
   "source": [
    "train = ce_target_encoder.transform(train)"
   ]
  },
  {
   "cell_type": "code",
   "execution_count": 1416,
   "metadata": {},
   "outputs": [],
   "source": [
    "train.drop('Date', axis = 1, inplace = True)\n",
    "train.drop('LBW', axis = 1, inplace = True)\n",
    "train.drop('Race  Index', axis = 1, inplace = True)"
   ]
  },
  {
   "cell_type": "code",
   "execution_count": 1420,
   "metadata": {},
   "outputs": [
    {
     "data": {
      "image/png": "[encoded data removed]",
      "text/plain": [
       "<Figure size 576x720 with 1 Axes>"
      ]
     },
     "metadata": {
      "needs_background": "light"
     },
     "output_type": "display_data"
    }
   ],
   "source": [
    "clf = xgb.XGBClassifier(max_depth=11, n_estimators=300, colsample_bytree=0.8, \n",
    "                        subsample=0.8, nthread=10, learning_rate=.1, n_jobs = -1)\n",
    "clf.fit(train, target)\n",
    "# plot the important features #\n",
    "fig, ax = plt.subplots(figsize=(8,10))\n",
    "xgb.plot_importance(clf, max_num_features=5, height=0.8, ax=ax)\n",
    "plt.show()"
   ]
  },
  {
   "cell_type": "code",
   "execution_count": 1421,
   "metadata": {},
   "outputs": [
    {
     "name": "stdout",
     "output_type": "stream",
     "text": [
      "0.7422835085329557 +/- 0.03920215107617607\n"
     ]
    }
   ],
   "source": [
    "scores = cross_val_score(clf, train, target, cv=5, scoring='roc_auc')\n",
    "print(scores.mean(), \"+/-\", scores.std())"
   ]
  },
  {
   "cell_type": "code",
   "execution_count": null,
   "metadata": {},
   "outputs": [],
   "source": []
  }
 ],
 "metadata": {
  "kernelspec": {
   "display_name": "Python 3",
   "language": "python",
   "name": "python3"
  },
  "language_info": {
   "codemirror_mode": {
    "name": "ipython",
    "version": 3
   },
   "file_extension": ".py",
   "mimetype": "text/x-python",
   "name": "python",
   "nbconvert_exporter": "python",
   "pygments_lexer": "ipython3",
   "version": "3.6.9"
  }
 },
 "nbformat": 4,
 "nbformat_minor": 4
}
